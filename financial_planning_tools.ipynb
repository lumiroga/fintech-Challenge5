{
 "cells": [
  {
   "cell_type": "markdown",
   "metadata": {},
   "source": [
    "# Financial Planning with APIs and Simulations\n",
    "\n",
    "In this Challenge, you’ll create two financial analysis tools by using a single Jupyter notebook:\n",
    "\n",
    "Part 1: A financial planner for emergencies. The members will be able to use this tool to visualize their current savings. The members can then determine if they have enough reserves for an emergency fund.\n",
    "\n",
    "Part 2: A financial planner for retirement. This tool will forecast the performance of their retirement portfolio in 30 years. To do this, the tool will make an Alpaca API call via the Alpaca SDK to get historical price data for use in Monte Carlo simulations.\n",
    "\n",
    "You’ll use the information from the Monte Carlo simulation to answer questions about the portfolio in your Jupyter notebook.\n",
    "\n"
   ]
  },
  {
   "cell_type": "code",
   "execution_count": 4,
   "metadata": {},
   "outputs": [],
   "source": [
    "# Import the required libraries and dependencies\n",
    "import os\n",
    "import requests\n",
    "import json\n",
    "import pandas as pd\n",
    "from dotenv import load_dotenv\n",
    "import alpaca_trade_api as tradeapi\n",
    "from MCForecastTools import MCSimulation\n",
    "\n",
    "%matplotlib inline"
   ]
  },
  {
   "cell_type": "code",
   "execution_count": 5,
   "metadata": {},
   "outputs": [
    {
     "data": {
      "text/plain": [
       "True"
      ]
     },
     "execution_count": 5,
     "metadata": {},
     "output_type": "execute_result"
    }
   ],
   "source": [
    "# Load the environment variables from the .env file\n",
    "#by calling the load_dotenv function\n",
    "load_dotenv('api.env')"
   ]
  },
  {
   "cell_type": "markdown",
   "metadata": {},
   "source": [
    "## Part 1: Create a Financial Planner for Emergencies"
   ]
  },
  {
   "cell_type": "markdown",
   "metadata": {},
   "source": [
    "### Evaluate the Cryptocurrency Wallet by Using the Requests Library\n",
    "\n",
    "In this section, you’ll determine the current value of a member’s cryptocurrency wallet. You’ll collect the current prices for the Bitcoin and Ethereum cryptocurrencies by using the Python Requests library. For the prototype, you’ll assume that the member holds the 1.2 Bitcoins (BTC) and 5.3 Ethereum coins (ETH). To do all this, complete the following steps:\n",
    "\n",
    "1. Create a variable named `monthly_income`, and set its value to `12000`.\n",
    "\n",
    "2. Use the Requests library to get the current price (in US dollars) of Bitcoin (BTC) and Ethereum (ETH) by using the API endpoints that the starter code supplies.\n",
    "\n",
    "3. Navigate the JSON response object to access the current price of each coin, and store each in a variable.\n",
    "\n",
    "    > **Hint** Note the specific identifier for each cryptocurrency in the API JSON response. The Bitcoin identifier is `1`, and the Ethereum identifier is `1027`.\n",
    "\n",
    "4. Calculate the value, in US dollars, of the current amount of each cryptocurrency and of the entire cryptocurrency wallet.\n",
    "\n"
   ]
  },
  {
   "cell_type": "code",
   "execution_count": 7,
   "metadata": {},
   "outputs": [],
   "source": [
    "# The current number of coins for each cryptocurrency asset held in the portfolio.\n",
    "btc_coins = 1.2\n",
    "eth_coins = 5.3"
   ]
  },
  {
   "cell_type": "markdown",
   "metadata": {},
   "source": [
    "#### Step 1: Create a variable named `monthly_income`, and set its value to `12000`."
   ]
  },
  {
   "cell_type": "code",
   "execution_count": 8,
   "metadata": {},
   "outputs": [],
   "source": [
    "# The monthly amount for the member's household income\n",
    "monthly_income = 12000\n"
   ]
  },
  {
   "cell_type": "markdown",
   "metadata": {},
   "source": [
    "#### Review the endpoint URLs for the API calls to Free Crypto API in order to get the current pricing information for both BTC and ETH."
   ]
  },
  {
   "cell_type": "code",
   "execution_count": 10,
   "metadata": {},
   "outputs": [],
   "source": [
    "# The Free Crypto API Call endpoint URLs for the held cryptocurrency assets\n",
    "btc_url = \"https://api.alternative.me/v2/ticker/Bitcoin/?convert=USD\"\n",
    "eth_url = \"https://api.alternative.me/v2/ticker/Ethereum/?convert=USD\""
   ]
  },
  {
   "cell_type": "markdown",
   "metadata": {},
   "source": [
    "#### Step 2. Use the Requests library to get the current price (in US dollars) of Bitcoin (BTC) and Ethereum (ETH) by using the API endpoints that the starter code supplied."
   ]
  },
  {
   "cell_type": "code",
   "execution_count": 16,
   "metadata": {},
   "outputs": [
    {
     "name": "stdout",
     "output_type": "stream",
     "text": [
      "{\n",
      " \"data\": {\n",
      "  \"1\": {\n",
      "   \"circulating_supply\": 19350368,\n",
      "   \"id\": 1,\n",
      "   \"last_updated\": 1681877403,\n",
      "   \"max_supply\": 21000000,\n",
      "   \"name\": \"Bitcoin\",\n",
      "   \"quotes\": {\n",
      "    \"USD\": {\n",
      "     \"market_cap\": 584786185142,\n",
      "     \"percent_change_1h\": -0.0186217036405824,\n",
      "     \"percent_change_24h\": 2.47298408894779,\n",
      "     \"percent_change_7d\": -0.233508247966782,\n",
      "     \"percentage_change_1h\": -0.0186217036405824,\n",
      "     \"percentage_change_24h\": 2.47298408894779,\n",
      "     \"percentage_change_7d\": -0.233508247966782,\n",
      "     \"price\": 30190.0,\n",
      "     \"volume_24h\": 17909267561\n",
      "    }\n",
      "   },\n",
      "   \"rank\": 1,\n",
      "   \"symbol\": \"BTC\",\n",
      "   \"total_supply\": 19350368,\n",
      "   \"website_slug\": \"bitcoin\"\n",
      "  }\n",
      " },\n",
      " \"metadata\": {\n",
      "  \"error\": null,\n",
      "  \"num_cryptocurrencies\": 3119,\n",
      "  \"timestamp\": 1681877403\n",
      " }\n",
      "}\n"
     ]
    }
   ],
   "source": [
    "# Using the Python requests library, make an API call to access the current price of BTC\n",
    "btc_response = requests.get(btc_url).json()\n",
    "\n",
    "# Use the json.dumps function to review the response data from the API call\n",
    "# Use the indent and sort_keys parameters to make the response object readable\n",
    "# YOUR CODE HERE\n",
    "print(json.dumps(btc_response, indent=1, sort_keys=True))"
   ]
  },
  {
   "cell_type": "code",
   "execution_count": 17,
   "metadata": {},
   "outputs": [
    {
     "name": "stdout",
     "output_type": "stream",
     "text": [
      "{\n",
      " \"data\": {\n",
      "  \"1027\": {\n",
      "   \"circulating_supply\": 119368246,\n",
      "   \"id\": 1027,\n",
      "   \"last_updated\": 1681877400,\n",
      "   \"max_supply\": 119368246,\n",
      "   \"name\": \"Ethereum\",\n",
      "   \"quotes\": {\n",
      "    \"USD\": {\n",
      "     \"market_cap\": 249715319577,\n",
      "     \"percent_change_1h\": -0.137208536385165,\n",
      "     \"percent_change_24h\": 0.451525516689162,\n",
      "     \"percent_change_7d\": 10.3813460068271,\n",
      "     \"percentage_change_1h\": -0.137208536385165,\n",
      "     \"percentage_change_24h\": 0.451525516689162,\n",
      "     \"percentage_change_7d\": 10.3813460068271,\n",
      "     \"price\": 2089.45,\n",
      "     \"volume_24h\": 9795990969\n",
      "    }\n",
      "   },\n",
      "   \"rank\": 2,\n",
      "   \"symbol\": \"ETH\",\n",
      "   \"total_supply\": 119368246,\n",
      "   \"website_slug\": \"ethereum\"\n",
      "  }\n",
      " },\n",
      " \"metadata\": {\n",
      "  \"error\": null,\n",
      "  \"num_cryptocurrencies\": 3119,\n",
      "  \"timestamp\": 1681877400\n",
      " }\n",
      "}\n"
     ]
    }
   ],
   "source": [
    "# Using the Python requests library, make an API call to access the current price ETH\n",
    "eth_response = requests.get(eth_url).json()\n",
    "\n",
    "# Use the json.dumps function to review the response data from the API call\n",
    "# Use the indent and sort_keys parameters to make the response object readable\n",
    "# YOUR CODE HERE\n",
    "print(json.dumps(eth_response, indent=1, sort_keys=True))"
   ]
  },
  {
   "cell_type": "markdown",
   "metadata": {},
   "source": [
    "#### Step 3: Navigate the JSON response object to access the current price of each coin, and store each in a variable."
   ]
  },
  {
   "cell_type": "code",
   "execution_count": 21,
   "metadata": {},
   "outputs": [
    {
     "data": {
      "text/plain": [
       "30190.0"
      ]
     },
     "execution_count": 21,
     "metadata": {},
     "output_type": "execute_result"
    }
   ],
   "source": [
    "# Navigate the BTC response object to access the current price of BTC\n",
    "btc_price = btc_response['data']['1']['quotes']['USD']['price']\n",
    "\n",
    "# Print the current price of BTC\n",
    "# YOUR CODE HERE\n",
    "btc_price"
   ]
  },
  {
   "cell_type": "code",
   "execution_count": 22,
   "metadata": {},
   "outputs": [
    {
     "data": {
      "text/plain": [
       "2089.45"
      ]
     },
     "execution_count": 22,
     "metadata": {},
     "output_type": "execute_result"
    }
   ],
   "source": [
    "# Navigate the BTC response object to access the current price of ETH\n",
    "eth_price = eth_response['data']['1027']['quotes']['USD']['price']\n",
    "\n",
    "# Print the current price of ETH\n",
    "# YOUR CODE HERE\n",
    "eth_price"
   ]
  },
  {
   "cell_type": "markdown",
   "metadata": {},
   "source": [
    "### Step 4: Calculate the value, in US dollars, of the current amount of each cryptocurrency and of the entire cryptocurrency wallet."
   ]
  },
  {
   "cell_type": "code",
   "execution_count": 23,
   "metadata": {},
   "outputs": [
    {
     "data": {
      "text/plain": [
       "36228.0"
      ]
     },
     "execution_count": 23,
     "metadata": {},
     "output_type": "execute_result"
    }
   ],
   "source": [
    "# Compute the current value of the BTC holding \n",
    "btc_value = btc_coins * btc_price\n",
    "\n",
    "# Print current value of your holding in BTC\n",
    "btc_value\n"
   ]
  },
  {
   "cell_type": "code",
   "execution_count": 26,
   "metadata": {},
   "outputs": [
    {
     "data": {
      "text/plain": [
       "11074.085"
      ]
     },
     "execution_count": 26,
     "metadata": {},
     "output_type": "execute_result"
    }
   ],
   "source": [
    "# Compute the current value of the ETH holding \n",
    "eth_value = eth_coins * eth_price\n",
    "\n",
    "# Print current value of your holding in ETH\n",
    "# YOUR CODE HERE\n",
    "eth_value"
   ]
  },
  {
   "cell_type": "code",
   "execution_count": 27,
   "metadata": {},
   "outputs": [
    {
     "data": {
      "text/plain": [
       "47302.085"
      ]
     },
     "execution_count": 27,
     "metadata": {},
     "output_type": "execute_result"
    }
   ],
   "source": [
    "# Compute the total value of the cryptocurrency wallet\n",
    "# Add the value of the BTC holding to the value of the ETH holding\n",
    "total_crypto_wallet = eth_value + btc_value\n",
    "\n",
    "# Print current cryptocurrency wallet balance\n",
    "total_crypto_wallet\n"
   ]
  },
  {
   "cell_type": "markdown",
   "metadata": {},
   "source": [
    "### Evaluate the Stock and Bond Holdings by Using the Alpaca SDK\n",
    "\n",
    "In this section, you’ll determine the current value of a member’s stock and bond holdings. You’ll make an API call to Alpaca via the Alpaca SDK to get the current closing prices of the SPDR S&P 500 ETF Trust (ticker: SPY) and of the iShares Core US Aggregate Bond ETF (ticker: AGG). For the prototype, assume that the member holds 110 shares of SPY, which represents the stock portion of their portfolio, and 200 shares of AGG, which represents the bond portion. To do all this, complete the following steps:\n",
    "\n",
    "1. In the `Starter_Code` folder, create an environment file (`.env`) to store the values of your Alpaca API key and Alpaca secret key.\n",
    "\n",
    "2. Set the variables for the Alpaca API and secret keys. Using the Alpaca SDK, create the Alpaca `tradeapi.REST` object. In this object, include the parameters for the Alpaca API key, the secret key, and the version number.\n",
    "\n",
    "3. Set the following parameters for the Alpaca API call:\n",
    "\n",
    "    - `tickers`: Use the tickers for the member’s stock and bond holdings.\n",
    "\n",
    "    - `timeframe`: Use a time frame of one day.\n",
    "\n",
    "    - `start_date` and `end_date`: Use the same date for these parameters, and format them with the date of the previous weekday (or `2020-08-07`). This is because you want the one closing price for the most-recent trading day.\n",
    "\n",
    "4. Get the current closing prices for `SPY` and `AGG` by using the Alpaca `get_bars` function. Format the response as a Pandas DataFrame by including the `df` property at the end of the `get_bars` function.\n",
    "\n",
    "5. Navigating the Alpaca response DataFrame, select the `SPY` and `AGG` closing prices, and store them as variables.\n",
    "\n",
    "6. Calculate the value, in US dollars, of the current amount of shares in each of the stock and bond portions of the portfolio, and print the results.\n"
   ]
  },
  {
   "cell_type": "markdown",
   "metadata": {},
   "source": [
    "#### Review the total number of shares held in both (SPY) and (AGG)."
   ]
  },
  {
   "cell_type": "code",
   "execution_count": 43,
   "metadata": {},
   "outputs": [],
   "source": [
    "# Current amount of shares held in both the stock (SPY) and bond (AGG) portion of the portfolio.\n",
    "spy_shares = 110\n",
    "agg_shares = 200\n"
   ]
  },
  {
   "cell_type": "markdown",
   "metadata": {},
   "source": [
    "#### Step 1: In the `Starter_Code` folder, create an environment file (`.env`) to store the values of your Alpaca API key and Alpaca secret key."
   ]
  },
  {
   "cell_type": "markdown",
   "metadata": {},
   "source": [
    "#### Step 2: Set the variables for the Alpaca API and secret keys. Using the Alpaca SDK, create the Alpaca `tradeapi.REST` object. In this object, include the parameters for the Alpaca API key, the secret key, and the version number."
   ]
  },
  {
   "cell_type": "code",
   "execution_count": 29,
   "metadata": {},
   "outputs": [],
   "source": [
    "# Set the variables for the Alpaca API and secret keys\n",
    "alpaca_client_id = os.getenv('ALPACA_API_KEY')\n",
    "alpaca_client_secret = os.getenv('ALPACA_SECRET_KEY')\n",
    "# Create the Alpaca tradeapi.REST object\n",
    "alpaca = tradeapi.REST(\n",
    "    alpaca_client_id,\n",
    "    alpaca_client_secret,\n",
    "    api_version = \"v2\"\n",
    ")\n"
   ]
  },
  {
   "cell_type": "markdown",
   "metadata": {},
   "source": [
    "#### Step 3: Set the following parameters for the Alpaca API call:\n",
    "\n",
    "- `tickers`: Use the tickers for the member’s stock and bond holdings.\n",
    "\n",
    "- `timeframe`: Use a time frame of one day.\n",
    "\n",
    "- `start_date` and `end_date`: Use the same date for these parameters, and format them with the date of the previous weekday (or `2020-08-07`). This is because you want the one closing price for the most-recent trading day.\n"
   ]
  },
  {
   "cell_type": "code",
   "execution_count": 30,
   "metadata": {},
   "outputs": [],
   "source": [
    "# Set the tickers for both the bond and stock portion of the portfolio\n",
    "tickers = ['SPY','AGG']\n",
    "\n",
    "# Set timeframe to 1Day\n",
    "timeframe = '1Day'\n",
    "\n",
    "# Format current date as ISO format\n",
    "# Set both the start and end date at the date of your prior weekday \n",
    "# This will give you the closing price of the previous trading day\n",
    "# Alternatively you can use a start and end date of 2020-08-07\n",
    "start_date = pd.Timestamp(\"2022-04-18\", tz=\"America/New_York\").isoformat()\n",
    "end_date = pd.Timestamp(\"2023-04-18\", tz=\"America/New_York\").isoformat()\n"
   ]
  },
  {
   "cell_type": "markdown",
   "metadata": {},
   "source": [
    "#### Step 4: Get the current closing prices for `SPY` and `AGG` by using the Alpaca `get_bars` function. Format the response as a Pandas DataFrame by including the `df` property at the end of the `get_bars` function."
   ]
  },
  {
   "cell_type": "code",
   "execution_count": 36,
   "metadata": {},
   "outputs": [
    {
     "data": {
      "text/html": [
       "<div>\n",
       "<style scoped>\n",
       "    .dataframe tbody tr th:only-of-type {\n",
       "        vertical-align: middle;\n",
       "    }\n",
       "\n",
       "    .dataframe tbody tr th {\n",
       "        vertical-align: top;\n",
       "    }\n",
       "\n",
       "    .dataframe thead tr th {\n",
       "        text-align: left;\n",
       "    }\n",
       "\n",
       "    .dataframe thead tr:last-of-type th {\n",
       "        text-align: right;\n",
       "    }\n",
       "</style>\n",
       "<table border=\"1\" class=\"dataframe\">\n",
       "  <thead>\n",
       "    <tr>\n",
       "      <th></th>\n",
       "      <th colspan=\"7\" halign=\"left\">SPY</th>\n",
       "      <th colspan=\"7\" halign=\"left\">AGG</th>\n",
       "    </tr>\n",
       "    <tr>\n",
       "      <th></th>\n",
       "      <th>open</th>\n",
       "      <th>high</th>\n",
       "      <th>low</th>\n",
       "      <th>close</th>\n",
       "      <th>volume</th>\n",
       "      <th>trade_count</th>\n",
       "      <th>vwap</th>\n",
       "      <th>open</th>\n",
       "      <th>high</th>\n",
       "      <th>low</th>\n",
       "      <th>close</th>\n",
       "      <th>volume</th>\n",
       "      <th>trade_count</th>\n",
       "      <th>vwap</th>\n",
       "    </tr>\n",
       "    <tr>\n",
       "      <th>timestamp</th>\n",
       "      <th></th>\n",
       "      <th></th>\n",
       "      <th></th>\n",
       "      <th></th>\n",
       "      <th></th>\n",
       "      <th></th>\n",
       "      <th></th>\n",
       "      <th></th>\n",
       "      <th></th>\n",
       "      <th></th>\n",
       "      <th></th>\n",
       "      <th></th>\n",
       "      <th></th>\n",
       "      <th></th>\n",
       "    </tr>\n",
       "  </thead>\n",
       "  <tbody>\n",
       "    <tr>\n",
       "      <th>2022-04-18 04:00:00+00:00</th>\n",
       "      <td>436.81</td>\n",
       "      <td>439.7500</td>\n",
       "      <td>435.61</td>\n",
       "      <td>437.97</td>\n",
       "      <td>65714873</td>\n",
       "      <td>573475</td>\n",
       "      <td>437.860721</td>\n",
       "      <td>103.97</td>\n",
       "      <td>104.0150</td>\n",
       "      <td>103.610</td>\n",
       "      <td>103.65</td>\n",
       "      <td>8630794</td>\n",
       "      <td>35583</td>\n",
       "      <td>103.732544</td>\n",
       "    </tr>\n",
       "    <tr>\n",
       "      <th>2022-04-19 04:00:00+00:00</th>\n",
       "      <td>437.86</td>\n",
       "      <td>445.8000</td>\n",
       "      <td>437.68</td>\n",
       "      <td>445.04</td>\n",
       "      <td>77643595</td>\n",
       "      <td>597459</td>\n",
       "      <td>443.071259</td>\n",
       "      <td>103.26</td>\n",
       "      <td>103.4264</td>\n",
       "      <td>102.974</td>\n",
       "      <td>103.02</td>\n",
       "      <td>7845947</td>\n",
       "      <td>32654</td>\n",
       "      <td>103.193615</td>\n",
       "    </tr>\n",
       "    <tr>\n",
       "      <th>2022-04-20 04:00:00+00:00</th>\n",
       "      <td>446.92</td>\n",
       "      <td>447.5700</td>\n",
       "      <td>443.48</td>\n",
       "      <td>444.71</td>\n",
       "      <td>64714530</td>\n",
       "      <td>591489</td>\n",
       "      <td>445.609828</td>\n",
       "      <td>103.36</td>\n",
       "      <td>103.7356</td>\n",
       "      <td>103.300</td>\n",
       "      <td>103.61</td>\n",
       "      <td>8433596</td>\n",
       "      <td>32859</td>\n",
       "      <td>103.528896</td>\n",
       "    </tr>\n",
       "    <tr>\n",
       "      <th>2022-04-21 04:00:00+00:00</th>\n",
       "      <td>448.54</td>\n",
       "      <td>450.0100</td>\n",
       "      <td>437.10</td>\n",
       "      <td>438.06</td>\n",
       "      <td>84866280</td>\n",
       "      <td>717885</td>\n",
       "      <td>442.785544</td>\n",
       "      <td>103.44</td>\n",
       "      <td>103.4700</td>\n",
       "      <td>102.790</td>\n",
       "      <td>103.04</td>\n",
       "      <td>11392788</td>\n",
       "      <td>35577</td>\n",
       "      <td>103.047589</td>\n",
       "    </tr>\n",
       "    <tr>\n",
       "      <th>2022-04-22 04:00:00+00:00</th>\n",
       "      <td>436.91</td>\n",
       "      <td>438.0825</td>\n",
       "      <td>425.44</td>\n",
       "      <td>426.04</td>\n",
       "      <td>132020752</td>\n",
       "      <td>971202</td>\n",
       "      <td>429.814400</td>\n",
       "      <td>102.73</td>\n",
       "      <td>103.1800</td>\n",
       "      <td>102.670</td>\n",
       "      <td>102.94</td>\n",
       "      <td>9150132</td>\n",
       "      <td>31457</td>\n",
       "      <td>102.925873</td>\n",
       "    </tr>\n",
       "  </tbody>\n",
       "</table>\n",
       "</div>"
      ],
      "text/plain": [
       "                              SPY                                       \\\n",
       "                             open      high     low   close     volume   \n",
       "timestamp                                                                \n",
       "2022-04-18 04:00:00+00:00  436.81  439.7500  435.61  437.97   65714873   \n",
       "2022-04-19 04:00:00+00:00  437.86  445.8000  437.68  445.04   77643595   \n",
       "2022-04-20 04:00:00+00:00  446.92  447.5700  443.48  444.71   64714530   \n",
       "2022-04-21 04:00:00+00:00  448.54  450.0100  437.10  438.06   84866280   \n",
       "2022-04-22 04:00:00+00:00  436.91  438.0825  425.44  426.04  132020752   \n",
       "\n",
       "                                                      AGG                     \\\n",
       "                          trade_count        vwap    open      high      low   \n",
       "timestamp                                                                      \n",
       "2022-04-18 04:00:00+00:00      573475  437.860721  103.97  104.0150  103.610   \n",
       "2022-04-19 04:00:00+00:00      597459  443.071259  103.26  103.4264  102.974   \n",
       "2022-04-20 04:00:00+00:00      591489  445.609828  103.36  103.7356  103.300   \n",
       "2022-04-21 04:00:00+00:00      717885  442.785544  103.44  103.4700  102.790   \n",
       "2022-04-22 04:00:00+00:00      971202  429.814400  102.73  103.1800  102.670   \n",
       "\n",
       "                                                                     \n",
       "                            close    volume trade_count        vwap  \n",
       "timestamp                                                            \n",
       "2022-04-18 04:00:00+00:00  103.65   8630794       35583  103.732544  \n",
       "2022-04-19 04:00:00+00:00  103.02   7845947       32654  103.193615  \n",
       "2022-04-20 04:00:00+00:00  103.61   8433596       32859  103.528896  \n",
       "2022-04-21 04:00:00+00:00  103.04  11392788       35577  103.047589  \n",
       "2022-04-22 04:00:00+00:00  102.94   9150132       31457  102.925873  "
      ]
     },
     "execution_count": 36,
     "metadata": {},
     "output_type": "execute_result"
    }
   ],
   "source": [
    "# Use the Alpaca get_bars function to get current closing prices the portfolio\n",
    "# Be sure to set the `df` property after the function to format the response object as a DataFrame\n",
    "tickers_df = alpaca.get_bars(\n",
    "    tickers,\n",
    "    timeframe=timeframe,\n",
    "    start=start_date,\n",
    "    end=end_date).df\n",
    "\n",
    "# Reorganize the DataFrame\n",
    "# Separate ticker data\n",
    "SPY = tickers_df.loc[tickers_df['symbol']=='SPY'].drop('symbol',axis=1)\n",
    "AGG = tickers_df.loc[tickers_df['symbol']=='AGG'].drop('symbol',axis=1)\n",
    "\n",
    "\n",
    "\n",
    "# Concatenate the ticker DataFrames\n",
    "prices_df = pd.concat([SPY,AGG],axis=1,keys=['SPY','AGG'])\n",
    "\n",
    "# Review the first 5 rows of the Alpaca DataFrame\n",
    "prices_df.head()\n"
   ]
  },
  {
   "cell_type": "markdown",
   "metadata": {},
   "source": [
    "#### Step 5: Navigating the Alpaca response DataFrame, select the `SPY` and `AGG` closing prices, and store them as variables."
   ]
  },
  {
   "cell_type": "code",
   "execution_count": 40,
   "metadata": {},
   "outputs": [
    {
     "data": {
      "text/plain": [
       "99.04"
      ]
     },
     "execution_count": 40,
     "metadata": {},
     "output_type": "execute_result"
    }
   ],
   "source": [
    "# Access the closing price for AGG from the Alpaca DataFrame\n",
    "# Converting the value to a floating point number\n",
    "agg_close_price = prices_df['AGG']['close']\n",
    "\n",
    "# Print the AGG closing price\n",
    "agg_last_close_price = agg_close_price[-1]\n",
    "agg_last_close_price"
   ]
  },
  {
   "cell_type": "code",
   "execution_count": 41,
   "metadata": {},
   "outputs": [
    {
     "data": {
      "text/plain": [
       "414.21"
      ]
     },
     "execution_count": 41,
     "metadata": {},
     "output_type": "execute_result"
    }
   ],
   "source": [
    "# Access the closing price for SPY from the Alpaca DataFrame\n",
    "# Converting the value to a floating point number\n",
    "spy_close_price = prices_df['SPY']['close']\n",
    "\n",
    "# Print the SPY closing price\n",
    "spy_last_close_price = spy_close_price[-1]\n",
    "spy_last_close_price"
   ]
  },
  {
   "cell_type": "markdown",
   "metadata": {},
   "source": [
    "#### Step 6: Calculate the value, in US dollars, of the current amount of shares in each of the stock and bond portions of the portfolio, and print the results."
   ]
  },
  {
   "cell_type": "code",
   "execution_count": 44,
   "metadata": {},
   "outputs": [
    {
     "data": {
      "text/plain": [
       "19808.0"
      ]
     },
     "execution_count": 44,
     "metadata": {},
     "output_type": "execute_result"
    }
   ],
   "source": [
    "# Calculate the current value of the bond portion of the portfolio\n",
    "agg_value = agg_shares * agg_last_close_price\n",
    "\n",
    "# Print the current value of the bond portfolio\n",
    "agg_value\n"
   ]
  },
  {
   "cell_type": "code",
   "execution_count": 46,
   "metadata": {},
   "outputs": [
    {
     "data": {
      "text/plain": [
       "45563.1"
      ]
     },
     "execution_count": 46,
     "metadata": {},
     "output_type": "execute_result"
    }
   ],
   "source": [
    "# Calculate the current value of the stock portion of the portfolio\n",
    "spy_value = spy_shares * spy_last_close_price \n",
    "\n",
    "# Print the current value of the stock portfolio\n",
    "spy_value\n"
   ]
  },
  {
   "cell_type": "code",
   "execution_count": 47,
   "metadata": {},
   "outputs": [
    {
     "data": {
      "text/plain": [
       "65371.1"
      ]
     },
     "execution_count": 47,
     "metadata": {},
     "output_type": "execute_result"
    }
   ],
   "source": [
    "# Calculate the total value of the stock and bond portion of the portfolio\n",
    "total_stocks_bonds = agg_value + spy_value\n",
    "\n",
    "# Print the current balance of the stock and bond portion of the portfolio\n",
    "total_stocks_bonds\n"
   ]
  },
  {
   "cell_type": "code",
   "execution_count": 49,
   "metadata": {},
   "outputs": [
    {
     "name": "stdout",
     "output_type": "stream",
     "text": [
      "Total Portfolio value: $112673.18\n"
     ]
    }
   ],
   "source": [
    "# Calculate the total value of the member's entire savings portfolio\n",
    "# Add the value of the cryptocurrency walled to the value of the total stocks and bonds\n",
    "total_portfolio = total_stocks_bonds + total_crypto_wallet\n",
    "\n",
    "# Print current cryptocurrency wallet balance\n",
    "print(f\"Total Portfolio value: ${total_portfolio:.2f}\")\n"
   ]
  },
  {
   "cell_type": "markdown",
   "metadata": {
    "tags": []
   },
   "source": [
    "### Evaluate the Emergency Fund\n",
    "\n",
    "In this section, you’ll use the valuations for the cryptocurrency wallet and for the stock and bond portions of the portfolio to determine if the credit union member has enough savings to build an emergency fund into their financial plan. To do this, complete the following steps:\n",
    "\n",
    "1. Create a Python list named `savings_data` that has two elements. The first element contains the total value of the cryptocurrency wallet. The second element contains the total value of the stock and bond portions of the portfolio.\n",
    "\n",
    "2. Use the `savings_data` list to create a Pandas DataFrame named `savings_df`, and then display this DataFrame. The function to create the DataFrame should take the following three parameters:\n",
    "\n",
    "    - `savings_data`: Use the list that you just created.\n",
    "\n",
    "    - `columns`: Set this parameter equal to a Python list with a single value called `amount`.\n",
    "\n",
    "    - `index`: Set this parameter equal to a Python list with the values of `crypto` and `stock/bond`.\n",
    "\n",
    "3. Use the `savings_df` DataFrame to plot a pie chart that visualizes the composition of the member’s portfolio. The y-axis of the pie chart uses `amount`. Be sure to add a title.\n",
    "\n",
    "4. Using Python, determine if the current portfolio has enough to create an emergency fund as part of the member’s financial plan. Ideally, an emergency fund should equal to three times the member’s monthly income. To do this, implement the following steps:\n",
    "\n",
    "    1. Create a variable named `emergency_fund_value`, and set it equal to three times the value of the member’s `monthly_income` of $12000. (You set this earlier in Part 1).\n",
    "\n",
    "    2. Create a series of three if statements to determine if the member’s total portfolio is large enough to fund the emergency portfolio:\n",
    "\n",
    "        1. If the total portfolio value is greater than the emergency fund value, display a message congratulating the member for having enough money in this fund.\n",
    "\n",
    "        2. Else if the total portfolio value is equal to the emergency fund value, display a message congratulating the member on reaching this important financial goal.\n",
    "\n",
    "        3. Else the total portfolio is less than the emergency fund value, so display a message showing how many dollars away the member is from reaching the goal. (Subtract the total portfolio value from the emergency fund value.)\n"
   ]
  },
  {
   "cell_type": "markdown",
   "metadata": {},
   "source": [
    "#### Step 1: Create a Python list named `savings_data` that has two elements. The first element contains the total value of the cryptocurrency wallet. The second element contains the total value of the stock and bond portions of the portfolio."
   ]
  },
  {
   "cell_type": "code",
   "execution_count": 50,
   "metadata": {},
   "outputs": [
    {
     "data": {
      "text/plain": [
       "[47302.085, 65371.1]"
      ]
     },
     "execution_count": 50,
     "metadata": {},
     "output_type": "execute_result"
    }
   ],
   "source": [
    "# Consolidate financial assets data into a Python list\n",
    "savings_date = [total_crypto_wallet,total_stocks_bonds]\n",
    "\n",
    "# Review the Python list savings_data\n",
    "savings_date\n",
    "    "
   ]
  },
  {
   "cell_type": "markdown",
   "metadata": {},
   "source": [
    "#### Step 2: Use the `savings_data` list to create a Pandas DataFrame named `savings_df`, and then display this DataFrame. The function to create the DataFrame should take the following three parameters:\n",
    "\n",
    "- `savings_data`: Use the list that you just created.\n",
    "\n",
    "- `columns`: Set this parameter equal to a Python list with a single value called `amount`.\n",
    "\n",
    "- `index`: Set this parameter equal to a Python list with the values of `crypto` and `stock/bond`.\n"
   ]
  },
  {
   "cell_type": "code",
   "execution_count": 51,
   "metadata": {},
   "outputs": [
    {
     "data": {
      "text/html": [
       "<div>\n",
       "<style scoped>\n",
       "    .dataframe tbody tr th:only-of-type {\n",
       "        vertical-align: middle;\n",
       "    }\n",
       "\n",
       "    .dataframe tbody tr th {\n",
       "        vertical-align: top;\n",
       "    }\n",
       "\n",
       "    .dataframe thead th {\n",
       "        text-align: right;\n",
       "    }\n",
       "</style>\n",
       "<table border=\"1\" class=\"dataframe\">\n",
       "  <thead>\n",
       "    <tr style=\"text-align: right;\">\n",
       "      <th></th>\n",
       "      <th>amount</th>\n",
       "    </tr>\n",
       "  </thead>\n",
       "  <tbody>\n",
       "    <tr>\n",
       "      <th>crypto</th>\n",
       "      <td>47302.085</td>\n",
       "    </tr>\n",
       "    <tr>\n",
       "      <th>stock/bond</th>\n",
       "      <td>65371.100</td>\n",
       "    </tr>\n",
       "  </tbody>\n",
       "</table>\n",
       "</div>"
      ],
      "text/plain": [
       "               amount\n",
       "crypto      47302.085\n",
       "stock/bond  65371.100"
      ]
     },
     "execution_count": 51,
     "metadata": {},
     "output_type": "execute_result"
    }
   ],
   "source": [
    "# Create a Pandas DataFrame called savings_df \n",
    "savings_df = pd.DataFrame(savings_date, columns=['amount'],index=['crypto','stock/bond'])\n",
    "\n",
    "# Display the savings_df DataFrame\n",
    "savings_df\n"
   ]
  },
  {
   "cell_type": "markdown",
   "metadata": {},
   "source": [
    "#### Step 3: Use the `savings_df` DataFrame to plot a pie chart that visualizes the composition of the member’s portfolio. The y-axis of the pie chart uses `amount`. Be sure to add a title."
   ]
  },
  {
   "cell_type": "code",
   "execution_count": 59,
   "metadata": {},
   "outputs": [
    {
     "data": {
      "text/plain": [
       "<AxesSubplot:title={'center':'Percentage of Crypto and Stock/Bonds'}, ylabel='amount'>"
      ]
     },
     "execution_count": 59,
     "metadata": {},
     "output_type": "execute_result"
    },
    {
     "data": {
      "image/png": "[encoded data removed]",
      "text/plain": [
       "<Figure size 800x1000 with 1 Axes>"
      ]
     },
     "metadata": {},
     "output_type": "display_data"
    }
   ],
   "source": [
    "# Plot the total value of the member's portfolio (crypto and stock/bond) in a pie chart\n",
    "savings_df.plot.pie(title=\"Percentage of Crypto and Stock/Bonds\",y=\"amount\",figsize=(8,10),autopct='%1.2f%%')\n"
   ]
  },
  {
   "cell_type": "markdown",
   "metadata": {},
   "source": [
    "#### Step 4: Using Python, determine if the current portfolio has enough to create an emergency fund as part of the member’s financial plan. Ideally, an emergency fund should equal to three times the member’s monthly income. To do this, implement the following steps:\n",
    "\n",
    "Step 1. Create a variable named `emergency_fund_value`, and set it equal to three times the value of the member’s `monthly_income` of 12000. (You set this earlier in Part 1).\n",
    "\n",
    "Step 2. Create a series of three if statements to determine if the member’s total portfolio is large enough to fund the emergency portfolio:\n",
    "\n",
    "* If the total portfolio value is greater than the emergency fund value, display a message congratulating the member for having enough money in this fund.\n",
    "\n",
    "* Else if the total portfolio value is equal to the emergency fund value, display a message congratulating the member on reaching this important financial goal.\n",
    "\n",
    "* Else the total portfolio is less than the emergency fund value, so display a message showing how many dollars away the member is from reaching the goal. (Subtract the total portfolio value from the emergency fund value.)\n"
   ]
  },
  {
   "cell_type": "markdown",
   "metadata": {},
   "source": [
    "##### Step 4-1: Create a variable named `emergency_fund_value`, and set it equal to three times the value of the member’s `monthly_income` of 12000. (You set this earlier in Part 1)."
   ]
  },
  {
   "cell_type": "code",
   "execution_count": 62,
   "metadata": {},
   "outputs": [
    {
     "data": {
      "text/plain": [
       "36000"
      ]
     },
     "execution_count": 62,
     "metadata": {},
     "output_type": "execute_result"
    }
   ],
   "source": [
    "# Create a variable named emergency_fund_value\n",
    "emergency_fund_value = 3 * monthly_income\n",
    "emergency_fund_value"
   ]
  },
  {
   "cell_type": "markdown",
   "metadata": {},
   "source": [
    "##### Step 4-2: Create a series of three if statements to determine if the member’s total portfolio is large enough to fund the emergency portfolio:\n",
    "\n",
    "* If the total portfolio value is greater than the emergency fund value, display a message congratulating the member for having enough money in this fund.\n",
    "\n",
    "* Else if the total portfolio value is equal to the emergency fund value, display a message congratulating the member on reaching this important financial goal.\n",
    "\n",
    "* Else the total portfolio is less than the emergency fund value, so display a message showing how many dollars away the member is from reaching the goal. (Subtract the total portfolio value from the emergency fund value.)"
   ]
  },
  {
   "cell_type": "code",
   "execution_count": 64,
   "metadata": {},
   "outputs": [
    {
     "name": "stdout",
     "output_type": "stream",
     "text": [
      "Congratulations, you have enough money in your emergency fund\n"
     ]
    }
   ],
   "source": [
    "# Evaluate the possibility of creating an emergency fund with 3 conditions:\n",
    "if total_portfolio > emergency_fund_value:\n",
    "    print('Congratulations, you have enough money in your emergency fund')\n",
    "elif total_portfolio == emergency_fund_value:\n",
    "    print(\"Congratulations, you are in balance, you have the exact amount you need in your emergency fund\")\n",
    "else:\n",
    "    print(f\"Sorry, you don't have enough money in your emergency fund.\\nYou are ${(emergency_fund_value-total_portfolio):.2f} away from having a proper emergency fund.\")\n"
   ]
  },
  {
   "cell_type": "markdown",
   "metadata": {},
   "source": [
    "## Part 2: Create a Financial Planner for Retirement"
   ]
  },
  {
   "cell_type": "markdown",
   "metadata": {},
   "source": [
    "### Create the Monte Carlo Simulation\n",
    "\n",
    "In this section, you’ll use the MCForecastTools library to create a Monte Carlo simulation for the member’s savings portfolio. To do this, complete the following steps:\n",
    "\n",
    "1. Make an API call via the Alpaca SDK to get 3 years of historical closing prices for a traditional 60/40 portfolio split: 60% stocks (SPY) and 40% bonds (AGG).\n",
    "\n",
    "2. Run a Monte Carlo simulation of 500 samples and 30 years for the 60/40 portfolio, and then plot the results.The following image shows the overlay line plot resulting from a simulation with these characteristics. However, because a random number generator is used to run each live Monte Carlo simulation, your image will differ slightly from this exact image:\n",
    "\n",
    "![A screenshot depicts the resulting plot.](Images/5-4-monte-carlo-line-plot.png)\n",
    "\n",
    "3. Plot the probability distribution of the Monte Carlo simulation. Plot the probability distribution of the Monte Carlo simulation. The following image shows the histogram plot resulting from a simulation with these characteristics. However, because a random number generator is used to run each live Monte Carlo simulation, your image will differ slightly from this exact image:\n",
    "\n",
    "![A screenshot depicts the histogram plot.](Images/5-4-monte-carlo-histogram.png)\n",
    "\n",
    "4. Generate the summary statistics for the Monte Carlo simulation.\n",
    "\n"
   ]
  },
  {
   "cell_type": "markdown",
   "metadata": {},
   "source": [
    "#### Step 1: Make an API call via the Alpaca SDK to get 3 years of historical closing prices for a traditional 60/40 portfolio split: 60% stocks (SPY) and 40% bonds (AGG)."
   ]
  },
  {
   "cell_type": "code",
   "execution_count": 67,
   "metadata": {},
   "outputs": [],
   "source": [
    "# Set start and end dates of 3 years back from your current date\n",
    "# Alternatively, you can use an end date of 2020-08-07 and work 3 years back from that date \n",
    "start_date = pd.Timestamp(\"2020-04-18\", tz=\"America/New_York\").isoformat()\n",
    "end_date = pd.Timestamp(\"2023-04-18\", tz=\"America/New_York\").isoformat()"
   ]
  },
  {
   "cell_type": "code",
   "execution_count": 68,
   "metadata": {},
   "outputs": [
    {
     "data": {
      "text/html": [
       "<div>\n",
       "<style scoped>\n",
       "    .dataframe tbody tr th:only-of-type {\n",
       "        vertical-align: middle;\n",
       "    }\n",
       "\n",
       "    .dataframe tbody tr th {\n",
       "        vertical-align: top;\n",
       "    }\n",
       "\n",
       "    .dataframe thead tr th {\n",
       "        text-align: left;\n",
       "    }\n",
       "\n",
       "    .dataframe thead tr:last-of-type th {\n",
       "        text-align: right;\n",
       "    }\n",
       "</style>\n",
       "<table border=\"1\" class=\"dataframe\">\n",
       "  <thead>\n",
       "    <tr>\n",
       "      <th></th>\n",
       "      <th colspan=\"7\" halign=\"left\">SPY</th>\n",
       "      <th colspan=\"7\" halign=\"left\">AGG</th>\n",
       "    </tr>\n",
       "    <tr>\n",
       "      <th></th>\n",
       "      <th>open</th>\n",
       "      <th>high</th>\n",
       "      <th>low</th>\n",
       "      <th>close</th>\n",
       "      <th>volume</th>\n",
       "      <th>trade_count</th>\n",
       "      <th>vwap</th>\n",
       "      <th>open</th>\n",
       "      <th>high</th>\n",
       "      <th>low</th>\n",
       "      <th>close</th>\n",
       "      <th>volume</th>\n",
       "      <th>trade_count</th>\n",
       "      <th>vwap</th>\n",
       "    </tr>\n",
       "    <tr>\n",
       "      <th>timestamp</th>\n",
       "      <th></th>\n",
       "      <th></th>\n",
       "      <th></th>\n",
       "      <th></th>\n",
       "      <th></th>\n",
       "      <th></th>\n",
       "      <th></th>\n",
       "      <th></th>\n",
       "      <th></th>\n",
       "      <th></th>\n",
       "      <th></th>\n",
       "      <th></th>\n",
       "      <th></th>\n",
       "      <th></th>\n",
       "    </tr>\n",
       "  </thead>\n",
       "  <tbody>\n",
       "    <tr>\n",
       "      <th>2020-04-20 04:00:00+00:00</th>\n",
       "      <td>282.61</td>\n",
       "      <td>286.7912</td>\n",
       "      <td>281.35</td>\n",
       "      <td>281.76</td>\n",
       "      <td>100109301</td>\n",
       "      <td>600459</td>\n",
       "      <td>283.731259</td>\n",
       "      <td>117.15</td>\n",
       "      <td>117.28</td>\n",
       "      <td>116.94</td>\n",
       "      <td>117.0800</td>\n",
       "      <td>3847904</td>\n",
       "      <td>18508</td>\n",
       "      <td>117.030930</td>\n",
       "    </tr>\n",
       "    <tr>\n",
       "      <th>2020-04-21 04:00:00+00:00</th>\n",
       "      <td>276.73</td>\n",
       "      <td>278.0400</td>\n",
       "      <td>272.02</td>\n",
       "      <td>273.17</td>\n",
       "      <td>126385698</td>\n",
       "      <td>923551</td>\n",
       "      <td>274.755317</td>\n",
       "      <td>117.43</td>\n",
       "      <td>117.44</td>\n",
       "      <td>117.07</td>\n",
       "      <td>117.1400</td>\n",
       "      <td>4660507</td>\n",
       "      <td>19425</td>\n",
       "      <td>117.166762</td>\n",
       "    </tr>\n",
       "    <tr>\n",
       "      <th>2020-04-22 04:00:00+00:00</th>\n",
       "      <td>278.35</td>\n",
       "      <td>281.0000</td>\n",
       "      <td>276.91</td>\n",
       "      <td>279.04</td>\n",
       "      <td>93524584</td>\n",
       "      <td>527777</td>\n",
       "      <td>278.482513</td>\n",
       "      <td>117.16</td>\n",
       "      <td>117.24</td>\n",
       "      <td>116.94</td>\n",
       "      <td>117.1400</td>\n",
       "      <td>4647244</td>\n",
       "      <td>17538</td>\n",
       "      <td>117.056879</td>\n",
       "    </tr>\n",
       "    <tr>\n",
       "      <th>2020-04-23 04:00:00+00:00</th>\n",
       "      <td>280.49</td>\n",
       "      <td>283.9400</td>\n",
       "      <td>278.75</td>\n",
       "      <td>279.01</td>\n",
       "      <td>104753796</td>\n",
       "      <td>688622</td>\n",
       "      <td>280.966290</td>\n",
       "      <td>117.33</td>\n",
       "      <td>117.45</td>\n",
       "      <td>117.19</td>\n",
       "      <td>117.4200</td>\n",
       "      <td>4331115</td>\n",
       "      <td>18473</td>\n",
       "      <td>117.341656</td>\n",
       "    </tr>\n",
       "    <tr>\n",
       "      <th>2020-04-24 04:00:00+00:00</th>\n",
       "      <td>280.73</td>\n",
       "      <td>283.7000</td>\n",
       "      <td>278.50</td>\n",
       "      <td>282.89</td>\n",
       "      <td>85169903</td>\n",
       "      <td>438571</td>\n",
       "      <td>281.032342</td>\n",
       "      <td>117.22</td>\n",
       "      <td>117.39</td>\n",
       "      <td>117.20</td>\n",
       "      <td>117.3595</td>\n",
       "      <td>3162137</td>\n",
       "      <td>14100</td>\n",
       "      <td>117.295003</td>\n",
       "    </tr>\n",
       "  </tbody>\n",
       "</table>\n",
       "</div>"
      ],
      "text/plain": [
       "                              SPY                                       \\\n",
       "                             open      high     low   close     volume   \n",
       "timestamp                                                                \n",
       "2020-04-20 04:00:00+00:00  282.61  286.7912  281.35  281.76  100109301   \n",
       "2020-04-21 04:00:00+00:00  276.73  278.0400  272.02  273.17  126385698   \n",
       "2020-04-22 04:00:00+00:00  278.35  281.0000  276.91  279.04   93524584   \n",
       "2020-04-23 04:00:00+00:00  280.49  283.9400  278.75  279.01  104753796   \n",
       "2020-04-24 04:00:00+00:00  280.73  283.7000  278.50  282.89   85169903   \n",
       "\n",
       "                                                      AGG                  \\\n",
       "                          trade_count        vwap    open    high     low   \n",
       "timestamp                                                                   \n",
       "2020-04-20 04:00:00+00:00      600459  283.731259  117.15  117.28  116.94   \n",
       "2020-04-21 04:00:00+00:00      923551  274.755317  117.43  117.44  117.07   \n",
       "2020-04-22 04:00:00+00:00      527777  278.482513  117.16  117.24  116.94   \n",
       "2020-04-23 04:00:00+00:00      688622  280.966290  117.33  117.45  117.19   \n",
       "2020-04-24 04:00:00+00:00      438571  281.032342  117.22  117.39  117.20   \n",
       "\n",
       "                                                                      \n",
       "                              close   volume trade_count        vwap  \n",
       "timestamp                                                             \n",
       "2020-04-20 04:00:00+00:00  117.0800  3847904       18508  117.030930  \n",
       "2020-04-21 04:00:00+00:00  117.1400  4660507       19425  117.166762  \n",
       "2020-04-22 04:00:00+00:00  117.1400  4647244       17538  117.056879  \n",
       "2020-04-23 04:00:00+00:00  117.4200  4331115       18473  117.341656  \n",
       "2020-04-24 04:00:00+00:00  117.3595  3162137       14100  117.295003  "
      ]
     },
     "metadata": {},
     "output_type": "display_data"
    },
    {
     "data": {
      "text/html": [
       "<div>\n",
       "<style scoped>\n",
       "    .dataframe tbody tr th:only-of-type {\n",
       "        vertical-align: middle;\n",
       "    }\n",
       "\n",
       "    .dataframe tbody tr th {\n",
       "        vertical-align: top;\n",
       "    }\n",
       "\n",
       "    .dataframe thead tr th {\n",
       "        text-align: left;\n",
       "    }\n",
       "\n",
       "    .dataframe thead tr:last-of-type th {\n",
       "        text-align: right;\n",
       "    }\n",
       "</style>\n",
       "<table border=\"1\" class=\"dataframe\">\n",
       "  <thead>\n",
       "    <tr>\n",
       "      <th></th>\n",
       "      <th colspan=\"7\" halign=\"left\">SPY</th>\n",
       "      <th colspan=\"7\" halign=\"left\">AGG</th>\n",
       "    </tr>\n",
       "    <tr>\n",
       "      <th></th>\n",
       "      <th>open</th>\n",
       "      <th>high</th>\n",
       "      <th>low</th>\n",
       "      <th>close</th>\n",
       "      <th>volume</th>\n",
       "      <th>trade_count</th>\n",
       "      <th>vwap</th>\n",
       "      <th>open</th>\n",
       "      <th>high</th>\n",
       "      <th>low</th>\n",
       "      <th>close</th>\n",
       "      <th>volume</th>\n",
       "      <th>trade_count</th>\n",
       "      <th>vwap</th>\n",
       "    </tr>\n",
       "    <tr>\n",
       "      <th>timestamp</th>\n",
       "      <th></th>\n",
       "      <th></th>\n",
       "      <th></th>\n",
       "      <th></th>\n",
       "      <th></th>\n",
       "      <th></th>\n",
       "      <th></th>\n",
       "      <th></th>\n",
       "      <th></th>\n",
       "      <th></th>\n",
       "      <th></th>\n",
       "      <th></th>\n",
       "      <th></th>\n",
       "      <th></th>\n",
       "    </tr>\n",
       "  </thead>\n",
       "  <tbody>\n",
       "    <tr>\n",
       "      <th>2023-04-12 04:00:00+00:00</th>\n",
       "      <td>411.87</td>\n",
       "      <td>412.17</td>\n",
       "      <td>407.4400</td>\n",
       "      <td>408.05</td>\n",
       "      <td>86440377</td>\n",
       "      <td>639926</td>\n",
       "      <td>409.706051</td>\n",
       "      <td>100.17</td>\n",
       "      <td>100.2000</td>\n",
       "      <td>99.610</td>\n",
       "      <td>99.93</td>\n",
       "      <td>7226122</td>\n",
       "      <td>33545</td>\n",
       "      <td>99.885733</td>\n",
       "    </tr>\n",
       "    <tr>\n",
       "      <th>2023-04-13 04:00:00+00:00</th>\n",
       "      <td>409.18</td>\n",
       "      <td>413.84</td>\n",
       "      <td>407.9922</td>\n",
       "      <td>413.47</td>\n",
       "      <td>85814754</td>\n",
       "      <td>566796</td>\n",
       "      <td>411.717306</td>\n",
       "      <td>100.16</td>\n",
       "      <td>100.2677</td>\n",
       "      <td>99.805</td>\n",
       "      <td>99.89</td>\n",
       "      <td>3964799</td>\n",
       "      <td>18405</td>\n",
       "      <td>99.967812</td>\n",
       "    </tr>\n",
       "    <tr>\n",
       "      <th>2023-04-14 04:00:00+00:00</th>\n",
       "      <td>412.81</td>\n",
       "      <td>415.09</td>\n",
       "      <td>410.0600</td>\n",
       "      <td>412.46</td>\n",
       "      <td>75973321</td>\n",
       "      <td>573427</td>\n",
       "      <td>412.263399</td>\n",
       "      <td>99.56</td>\n",
       "      <td>99.5900</td>\n",
       "      <td>99.320</td>\n",
       "      <td>99.40</td>\n",
       "      <td>4503010</td>\n",
       "      <td>19909</td>\n",
       "      <td>99.405533</td>\n",
       "    </tr>\n",
       "    <tr>\n",
       "      <th>2023-04-17 04:00:00+00:00</th>\n",
       "      <td>412.37</td>\n",
       "      <td>413.96</td>\n",
       "      <td>411.0850</td>\n",
       "      <td>413.94</td>\n",
       "      <td>66436399</td>\n",
       "      <td>477978</td>\n",
       "      <td>412.589612</td>\n",
       "      <td>99.13</td>\n",
       "      <td>99.1750</td>\n",
       "      <td>98.880</td>\n",
       "      <td>98.90</td>\n",
       "      <td>4441277</td>\n",
       "      <td>18511</td>\n",
       "      <td>98.944350</td>\n",
       "    </tr>\n",
       "    <tr>\n",
       "      <th>2023-04-18 04:00:00+00:00</th>\n",
       "      <td>415.58</td>\n",
       "      <td>415.72</td>\n",
       "      <td>412.7802</td>\n",
       "      <td>414.21</td>\n",
       "      <td>61604564</td>\n",
       "      <td>477409</td>\n",
       "      <td>414.072352</td>\n",
       "      <td>98.91</td>\n",
       "      <td>99.1600</td>\n",
       "      <td>98.910</td>\n",
       "      <td>99.04</td>\n",
       "      <td>4708306</td>\n",
       "      <td>17596</td>\n",
       "      <td>99.023574</td>\n",
       "    </tr>\n",
       "  </tbody>\n",
       "</table>\n",
       "</div>"
      ],
      "text/plain": [
       "                              SPY                                      \\\n",
       "                             open    high       low   close    volume   \n",
       "timestamp                                                               \n",
       "2023-04-12 04:00:00+00:00  411.87  412.17  407.4400  408.05  86440377   \n",
       "2023-04-13 04:00:00+00:00  409.18  413.84  407.9922  413.47  85814754   \n",
       "2023-04-14 04:00:00+00:00  412.81  415.09  410.0600  412.46  75973321   \n",
       "2023-04-17 04:00:00+00:00  412.37  413.96  411.0850  413.94  66436399   \n",
       "2023-04-18 04:00:00+00:00  415.58  415.72  412.7802  414.21  61604564   \n",
       "\n",
       "                                                      AGG                    \\\n",
       "                          trade_count        vwap    open      high     low   \n",
       "timestamp                                                                     \n",
       "2023-04-12 04:00:00+00:00      639926  409.706051  100.17  100.2000  99.610   \n",
       "2023-04-13 04:00:00+00:00      566796  411.717306  100.16  100.2677  99.805   \n",
       "2023-04-14 04:00:00+00:00      573427  412.263399   99.56   99.5900  99.320   \n",
       "2023-04-17 04:00:00+00:00      477978  412.589612   99.13   99.1750  98.880   \n",
       "2023-04-18 04:00:00+00:00      477409  414.072352   98.91   99.1600  98.910   \n",
       "\n",
       "                                                                  \n",
       "                           close   volume trade_count       vwap  \n",
       "timestamp                                                         \n",
       "2023-04-12 04:00:00+00:00  99.93  7226122       33545  99.885733  \n",
       "2023-04-13 04:00:00+00:00  99.89  3964799       18405  99.967812  \n",
       "2023-04-14 04:00:00+00:00  99.40  4503010       19909  99.405533  \n",
       "2023-04-17 04:00:00+00:00  98.90  4441277       18511  98.944350  \n",
       "2023-04-18 04:00:00+00:00  99.04  4708306       17596  99.023574  "
      ]
     },
     "execution_count": 68,
     "metadata": {},
     "output_type": "execute_result"
    }
   ],
   "source": [
    "# Use the Alpaca get_bars function to make the API call to get the 3 years worth of pricing data\n",
    "# The tickers and timeframe parameters should have been set in Part 1 of this activity \n",
    "# The start and end dates should be updated with the information set above\n",
    "# Remember to add the df property to the end of the call so the response is returned as a DataFrame\n",
    "three_year_tickers_df = alpaca.get_bars(\n",
    "    tickers,\n",
    "    timeframe=timeframe,\n",
    "    start = start_date,\n",
    "    end = end_date\n",
    ").df\n",
    "\n",
    "# Reorganize the DataFrame\n",
    "SPY = three_year_tickers_df.loc[three_year_tickers_df['symbol']=='SPY'].drop('symbol',axis=1)\n",
    "AGG = three_year_tickers_df.loc[three_year_tickers_df['symbol']=='AGG'].drop('symbol',axis=1)\n",
    "\n",
    "# Concatenate the ticker DataFrames\n",
    "prices_three_years_df = pd.concat([SPY,AGG],axis=1,keys=['SPY','AGG'])\n",
    "\n",
    "# Display both the first and last five rows of the DataFrame\n",
    "display(prices_three_years_df.head())\n",
    "prices_three_years_df.tail()\n"
   ]
  },
  {
   "cell_type": "markdown",
   "metadata": {},
   "source": [
    "#### Step 2: Run a Monte Carlo simulation of 500 samples and 30 years for the 60/40 portfolio, and then plot the results."
   ]
  },
  {
   "cell_type": "code",
   "execution_count": 71,
   "metadata": {},
   "outputs": [
    {
     "data": {
      "text/html": [
       "<div>\n",
       "<style scoped>\n",
       "    .dataframe tbody tr th:only-of-type {\n",
       "        vertical-align: middle;\n",
       "    }\n",
       "\n",
       "    .dataframe tbody tr th {\n",
       "        vertical-align: top;\n",
       "    }\n",
       "\n",
       "    .dataframe thead tr th {\n",
       "        text-align: left;\n",
       "    }\n",
       "\n",
       "    .dataframe thead tr:last-of-type th {\n",
       "        text-align: right;\n",
       "    }\n",
       "</style>\n",
       "<table border=\"1\" class=\"dataframe\">\n",
       "  <thead>\n",
       "    <tr>\n",
       "      <th></th>\n",
       "      <th colspan=\"8\" halign=\"left\">SPY</th>\n",
       "      <th colspan=\"8\" halign=\"left\">AGG</th>\n",
       "    </tr>\n",
       "    <tr>\n",
       "      <th></th>\n",
       "      <th>open</th>\n",
       "      <th>high</th>\n",
       "      <th>low</th>\n",
       "      <th>close</th>\n",
       "      <th>volume</th>\n",
       "      <th>trade_count</th>\n",
       "      <th>vwap</th>\n",
       "      <th>daily_return</th>\n",
       "      <th>open</th>\n",
       "      <th>high</th>\n",
       "      <th>low</th>\n",
       "      <th>close</th>\n",
       "      <th>volume</th>\n",
       "      <th>trade_count</th>\n",
       "      <th>vwap</th>\n",
       "      <th>daily_return</th>\n",
       "    </tr>\n",
       "    <tr>\n",
       "      <th>timestamp</th>\n",
       "      <th></th>\n",
       "      <th></th>\n",
       "      <th></th>\n",
       "      <th></th>\n",
       "      <th></th>\n",
       "      <th></th>\n",
       "      <th></th>\n",
       "      <th></th>\n",
       "      <th></th>\n",
       "      <th></th>\n",
       "      <th></th>\n",
       "      <th></th>\n",
       "      <th></th>\n",
       "      <th></th>\n",
       "      <th></th>\n",
       "      <th></th>\n",
       "    </tr>\n",
       "  </thead>\n",
       "  <tbody>\n",
       "    <tr>\n",
       "      <th>2020-04-20 04:00:00+00:00</th>\n",
       "      <td>282.61</td>\n",
       "      <td>286.7912</td>\n",
       "      <td>281.35</td>\n",
       "      <td>281.76</td>\n",
       "      <td>100109301</td>\n",
       "      <td>600459</td>\n",
       "      <td>283.731259</td>\n",
       "      <td>NaN</td>\n",
       "      <td>117.15</td>\n",
       "      <td>117.28</td>\n",
       "      <td>116.94</td>\n",
       "      <td>117.0800</td>\n",
       "      <td>3847904</td>\n",
       "      <td>18508</td>\n",
       "      <td>117.030930</td>\n",
       "      <td>NaN</td>\n",
       "    </tr>\n",
       "    <tr>\n",
       "      <th>2020-04-21 04:00:00+00:00</th>\n",
       "      <td>276.73</td>\n",
       "      <td>278.0400</td>\n",
       "      <td>272.02</td>\n",
       "      <td>273.17</td>\n",
       "      <td>126385698</td>\n",
       "      <td>923551</td>\n",
       "      <td>274.755317</td>\n",
       "      <td>-0.030487</td>\n",
       "      <td>117.43</td>\n",
       "      <td>117.44</td>\n",
       "      <td>117.07</td>\n",
       "      <td>117.1400</td>\n",
       "      <td>4660507</td>\n",
       "      <td>19425</td>\n",
       "      <td>117.166762</td>\n",
       "      <td>0.000512</td>\n",
       "    </tr>\n",
       "    <tr>\n",
       "      <th>2020-04-22 04:00:00+00:00</th>\n",
       "      <td>278.35</td>\n",
       "      <td>281.0000</td>\n",
       "      <td>276.91</td>\n",
       "      <td>279.04</td>\n",
       "      <td>93524584</td>\n",
       "      <td>527777</td>\n",
       "      <td>278.482513</td>\n",
       "      <td>0.021488</td>\n",
       "      <td>117.16</td>\n",
       "      <td>117.24</td>\n",
       "      <td>116.94</td>\n",
       "      <td>117.1400</td>\n",
       "      <td>4647244</td>\n",
       "      <td>17538</td>\n",
       "      <td>117.056879</td>\n",
       "      <td>0.000000</td>\n",
       "    </tr>\n",
       "    <tr>\n",
       "      <th>2020-04-23 04:00:00+00:00</th>\n",
       "      <td>280.49</td>\n",
       "      <td>283.9400</td>\n",
       "      <td>278.75</td>\n",
       "      <td>279.01</td>\n",
       "      <td>104753796</td>\n",
       "      <td>688622</td>\n",
       "      <td>280.966290</td>\n",
       "      <td>-0.000108</td>\n",
       "      <td>117.33</td>\n",
       "      <td>117.45</td>\n",
       "      <td>117.19</td>\n",
       "      <td>117.4200</td>\n",
       "      <td>4331115</td>\n",
       "      <td>18473</td>\n",
       "      <td>117.341656</td>\n",
       "      <td>0.002390</td>\n",
       "    </tr>\n",
       "    <tr>\n",
       "      <th>2020-04-24 04:00:00+00:00</th>\n",
       "      <td>280.73</td>\n",
       "      <td>283.7000</td>\n",
       "      <td>278.50</td>\n",
       "      <td>282.89</td>\n",
       "      <td>85169903</td>\n",
       "      <td>438571</td>\n",
       "      <td>281.032342</td>\n",
       "      <td>0.013906</td>\n",
       "      <td>117.22</td>\n",
       "      <td>117.39</td>\n",
       "      <td>117.20</td>\n",
       "      <td>117.3595</td>\n",
       "      <td>3162137</td>\n",
       "      <td>14100</td>\n",
       "      <td>117.295003</td>\n",
       "      <td>-0.000515</td>\n",
       "    </tr>\n",
       "  </tbody>\n",
       "</table>\n",
       "</div>"
      ],
      "text/plain": [
       "                              SPY                                       \\\n",
       "                             open      high     low   close     volume   \n",
       "timestamp                                                                \n",
       "2020-04-20 04:00:00+00:00  282.61  286.7912  281.35  281.76  100109301   \n",
       "2020-04-21 04:00:00+00:00  276.73  278.0400  272.02  273.17  126385698   \n",
       "2020-04-22 04:00:00+00:00  278.35  281.0000  276.91  279.04   93524584   \n",
       "2020-04-23 04:00:00+00:00  280.49  283.9400  278.75  279.01  104753796   \n",
       "2020-04-24 04:00:00+00:00  280.73  283.7000  278.50  282.89   85169903   \n",
       "\n",
       "                                                                   AGG  \\\n",
       "                          trade_count        vwap daily_return    open   \n",
       "timestamp                                                                \n",
       "2020-04-20 04:00:00+00:00      600459  283.731259          NaN  117.15   \n",
       "2020-04-21 04:00:00+00:00      923551  274.755317    -0.030487  117.43   \n",
       "2020-04-22 04:00:00+00:00      527777  278.482513     0.021488  117.16   \n",
       "2020-04-23 04:00:00+00:00      688622  280.966290    -0.000108  117.33   \n",
       "2020-04-24 04:00:00+00:00      438571  281.032342     0.013906  117.22   \n",
       "\n",
       "                                                                          \\\n",
       "                             high     low     close   volume trade_count   \n",
       "timestamp                                                                  \n",
       "2020-04-20 04:00:00+00:00  117.28  116.94  117.0800  3847904       18508   \n",
       "2020-04-21 04:00:00+00:00  117.44  117.07  117.1400  4660507       19425   \n",
       "2020-04-22 04:00:00+00:00  117.24  116.94  117.1400  4647244       17538   \n",
       "2020-04-23 04:00:00+00:00  117.45  117.19  117.4200  4331115       18473   \n",
       "2020-04-24 04:00:00+00:00  117.39  117.20  117.3595  3162137       14100   \n",
       "\n",
       "                                                    \n",
       "                                 vwap daily_return  \n",
       "timestamp                                           \n",
       "2020-04-20 04:00:00+00:00  117.030930          NaN  \n",
       "2020-04-21 04:00:00+00:00  117.166762     0.000512  \n",
       "2020-04-22 04:00:00+00:00  117.056879     0.000000  \n",
       "2020-04-23 04:00:00+00:00  117.341656     0.002390  \n",
       "2020-04-24 04:00:00+00:00  117.295003    -0.000515  "
      ]
     },
     "execution_count": 71,
     "metadata": {},
     "output_type": "execute_result"
    }
   ],
   "source": [
    "# Configure the Monte Carlo simulation to forecast 30 years cumulative returns\n",
    "# The weights should be split 40% to AGG and 60% to SPY.\n",
    "# Run 500 samples.\n",
    "thirty_year_simulation = MCSimulation(\n",
    "    prices_three_years_df,\n",
    "    weights = [.60,.40],\n",
    "    num_simulation = 500,\n",
    "    num_trading_days = 252*30\n",
    ")\n",
    "\n",
    "# Review the simulation input data\n",
    "thirty_year_simulation.portfolio_data.head()\n"
   ]
  },
  {
   "cell_type": "code",
   "execution_count": 72,
   "metadata": {},
   "outputs": [
    {
     "name": "stdout",
     "output_type": "stream",
     "text": [
      "Running Monte Carlo simulation number 0.\n",
      "Running Monte Carlo simulation number 10.\n",
      "Running Monte Carlo simulation number 20.\n",
      "Running Monte Carlo simulation number 30.\n",
      "Running Monte Carlo simulation number 40.\n",
      "Running Monte Carlo simulation number 50.\n",
      "Running Monte Carlo simulation number 60.\n",
      "Running Monte Carlo simulation number 70.\n",
      "Running Monte Carlo simulation number 80.\n",
      "Running Monte Carlo simulation number 90.\n",
      "Running Monte Carlo simulation number 100.\n"
     ]
    },
    {
     "name": "stderr",
     "output_type": "stream",
     "text": [
      "C:\\Users\\lmros\\Fintech\\Challenges\\Challenge5\\fintech-Challenge5\\MCForecastTools.py:117: PerformanceWarning: DataFrame is highly fragmented.  This is usually the result of calling `frame.insert` many times, which has poor performance.  Consider joining all columns at once using pd.concat(axis=1) instead.  To get a de-fragmented frame, use `newframe = frame.copy()`\n",
      "  portfolio_cumulative_returns[n] = (1 + sim_df.fillna(0)).cumprod()\n"
     ]
    },
    {
     "name": "stdout",
     "output_type": "stream",
     "text": [
      "Running Monte Carlo simulation number 110.\n",
      "Running Monte Carlo simulation number 120.\n",
      "Running Monte Carlo simulation number 130.\n",
      "Running Monte Carlo simulation number 140.\n",
      "Running Monte Carlo simulation number 150.\n",
      "Running Monte Carlo simulation number 160.\n",
      "Running Monte Carlo simulation number 170.\n",
      "Running Monte Carlo simulation number 180.\n",
      "Running Monte Carlo simulation number 190.\n",
      "Running Monte Carlo simulation number 200.\n",
      "Running Monte Carlo simulation number 210.\n",
      "Running Monte Carlo simulation number 220.\n",
      "Running Monte Carlo simulation number 230.\n",
      "Running Monte Carlo simulation number 240.\n",
      "Running Monte Carlo simulation number 250.\n",
      "Running Monte Carlo simulation number 260.\n",
      "Running Monte Carlo simulation number 270.\n",
      "Running Monte Carlo simulation number 280.\n",
      "Running Monte Carlo simulation number 290.\n",
      "Running Monte Carlo simulation number 300.\n",
      "Running Monte Carlo simulation number 310.\n",
      "Running Monte Carlo simulation number 320.\n",
      "Running Monte Carlo simulation number 330.\n",
      "Running Monte Carlo simulation number 340.\n",
      "Running Monte Carlo simulation number 350.\n",
      "Running Monte Carlo simulation number 360.\n",
      "Running Monte Carlo simulation number 370.\n",
      "Running Monte Carlo simulation number 380.\n",
      "Running Monte Carlo simulation number 390.\n",
      "Running Monte Carlo simulation number 400.\n",
      "Running Monte Carlo simulation number 410.\n",
      "Running Monte Carlo simulation number 420.\n",
      "Running Monte Carlo simulation number 430.\n",
      "Running Monte Carlo simulation number 440.\n",
      "Running Monte Carlo simulation number 450.\n",
      "Running Monte Carlo simulation number 460.\n",
      "Running Monte Carlo simulation number 470.\n",
      "Running Monte Carlo simulation number 480.\n",
      "Running Monte Carlo simulation number 490.\n",
      "Wall time: 2min 45s\n"
     ]
    },
    {
     "data": {
      "text/html": [
       "<div>\n",
       "<style scoped>\n",
       "    .dataframe tbody tr th:only-of-type {\n",
       "        vertical-align: middle;\n",
       "    }\n",
       "\n",
       "    .dataframe tbody tr th {\n",
       "        vertical-align: top;\n",
       "    }\n",
       "\n",
       "    .dataframe thead th {\n",
       "        text-align: right;\n",
       "    }\n",
       "</style>\n",
       "<table border=\"1\" class=\"dataframe\">\n",
       "  <thead>\n",
       "    <tr style=\"text-align: right;\">\n",
       "      <th></th>\n",
       "      <th>0</th>\n",
       "      <th>1</th>\n",
       "      <th>2</th>\n",
       "      <th>3</th>\n",
       "      <th>4</th>\n",
       "      <th>5</th>\n",
       "      <th>6</th>\n",
       "      <th>7</th>\n",
       "      <th>8</th>\n",
       "      <th>9</th>\n",
       "      <th>...</th>\n",
       "      <th>490</th>\n",
       "      <th>491</th>\n",
       "      <th>492</th>\n",
       "      <th>493</th>\n",
       "      <th>494</th>\n",
       "      <th>495</th>\n",
       "      <th>496</th>\n",
       "      <th>497</th>\n",
       "      <th>498</th>\n",
       "      <th>499</th>\n",
       "    </tr>\n",
       "  </thead>\n",
       "  <tbody>\n",
       "    <tr>\n",
       "      <th>0</th>\n",
       "      <td>1.000000</td>\n",
       "      <td>1.000000</td>\n",
       "      <td>1.000000</td>\n",
       "      <td>1.000000</td>\n",
       "      <td>1.000000</td>\n",
       "      <td>1.000000</td>\n",
       "      <td>1.000000</td>\n",
       "      <td>1.000000</td>\n",
       "      <td>1.000000</td>\n",
       "      <td>1.000000</td>\n",
       "      <td>...</td>\n",
       "      <td>1.000000</td>\n",
       "      <td>1.000000</td>\n",
       "      <td>1.000000</td>\n",
       "      <td>1.000000</td>\n",
       "      <td>1.000000</td>\n",
       "      <td>1.000000</td>\n",
       "      <td>1.000000</td>\n",
       "      <td>1.000000</td>\n",
       "      <td>1.000000</td>\n",
       "      <td>1.000000</td>\n",
       "    </tr>\n",
       "    <tr>\n",
       "      <th>1</th>\n",
       "      <td>0.996862</td>\n",
       "      <td>1.001464</td>\n",
       "      <td>0.998245</td>\n",
       "      <td>0.997728</td>\n",
       "      <td>0.998459</td>\n",
       "      <td>0.983073</td>\n",
       "      <td>1.003548</td>\n",
       "      <td>1.000284</td>\n",
       "      <td>1.006704</td>\n",
       "      <td>0.997614</td>\n",
       "      <td>...</td>\n",
       "      <td>1.006011</td>\n",
       "      <td>0.999551</td>\n",
       "      <td>0.983158</td>\n",
       "      <td>1.010934</td>\n",
       "      <td>1.000779</td>\n",
       "      <td>0.996937</td>\n",
       "      <td>1.004569</td>\n",
       "      <td>0.993737</td>\n",
       "      <td>0.997193</td>\n",
       "      <td>0.994954</td>\n",
       "    </tr>\n",
       "    <tr>\n",
       "      <th>2</th>\n",
       "      <td>1.000796</td>\n",
       "      <td>0.999041</td>\n",
       "      <td>0.994600</td>\n",
       "      <td>1.003455</td>\n",
       "      <td>1.003876</td>\n",
       "      <td>0.991818</td>\n",
       "      <td>1.003961</td>\n",
       "      <td>0.999712</td>\n",
       "      <td>1.012002</td>\n",
       "      <td>1.000400</td>\n",
       "      <td>...</td>\n",
       "      <td>0.993489</td>\n",
       "      <td>0.994553</td>\n",
       "      <td>0.979090</td>\n",
       "      <td>0.999169</td>\n",
       "      <td>0.997089</td>\n",
       "      <td>1.001744</td>\n",
       "      <td>1.003520</td>\n",
       "      <td>0.983774</td>\n",
       "      <td>0.987464</td>\n",
       "      <td>1.010977</td>\n",
       "    </tr>\n",
       "    <tr>\n",
       "      <th>3</th>\n",
       "      <td>1.007031</td>\n",
       "      <td>1.004903</td>\n",
       "      <td>0.991333</td>\n",
       "      <td>1.000682</td>\n",
       "      <td>1.003254</td>\n",
       "      <td>0.994628</td>\n",
       "      <td>0.993709</td>\n",
       "      <td>0.998359</td>\n",
       "      <td>1.003863</td>\n",
       "      <td>0.997917</td>\n",
       "      <td>...</td>\n",
       "      <td>0.981391</td>\n",
       "      <td>1.007121</td>\n",
       "      <td>0.969678</td>\n",
       "      <td>0.992442</td>\n",
       "      <td>1.002592</td>\n",
       "      <td>1.001473</td>\n",
       "      <td>1.006893</td>\n",
       "      <td>0.976541</td>\n",
       "      <td>0.996663</td>\n",
       "      <td>1.018405</td>\n",
       "    </tr>\n",
       "    <tr>\n",
       "      <th>4</th>\n",
       "      <td>1.003660</td>\n",
       "      <td>1.007167</td>\n",
       "      <td>0.991882</td>\n",
       "      <td>1.002832</td>\n",
       "      <td>1.005737</td>\n",
       "      <td>0.989059</td>\n",
       "      <td>0.982342</td>\n",
       "      <td>0.991245</td>\n",
       "      <td>1.001560</td>\n",
       "      <td>0.993944</td>\n",
       "      <td>...</td>\n",
       "      <td>0.974909</td>\n",
       "      <td>1.006774</td>\n",
       "      <td>0.973345</td>\n",
       "      <td>0.991086</td>\n",
       "      <td>0.999736</td>\n",
       "      <td>0.993197</td>\n",
       "      <td>0.996499</td>\n",
       "      <td>0.971402</td>\n",
       "      <td>0.995201</td>\n",
       "      <td>1.015867</td>\n",
       "    </tr>\n",
       "    <tr>\n",
       "      <th>...</th>\n",
       "      <td>...</td>\n",
       "      <td>...</td>\n",
       "      <td>...</td>\n",
       "      <td>...</td>\n",
       "      <td>...</td>\n",
       "      <td>...</td>\n",
       "      <td>...</td>\n",
       "      <td>...</td>\n",
       "      <td>...</td>\n",
       "      <td>...</td>\n",
       "      <td>...</td>\n",
       "      <td>...</td>\n",
       "      <td>...</td>\n",
       "      <td>...</td>\n",
       "      <td>...</td>\n",
       "      <td>...</td>\n",
       "      <td>...</td>\n",
       "      <td>...</td>\n",
       "      <td>...</td>\n",
       "      <td>...</td>\n",
       "      <td>...</td>\n",
       "    </tr>\n",
       "    <tr>\n",
       "      <th>7556</th>\n",
       "      <td>1.847298</td>\n",
       "      <td>6.420759</td>\n",
       "      <td>3.887808</td>\n",
       "      <td>3.988387</td>\n",
       "      <td>24.066807</td>\n",
       "      <td>7.020944</td>\n",
       "      <td>5.284197</td>\n",
       "      <td>15.969820</td>\n",
       "      <td>6.440724</td>\n",
       "      <td>4.432132</td>\n",
       "      <td>...</td>\n",
       "      <td>6.875713</td>\n",
       "      <td>4.947405</td>\n",
       "      <td>8.951967</td>\n",
       "      <td>5.012986</td>\n",
       "      <td>16.312299</td>\n",
       "      <td>15.048897</td>\n",
       "      <td>2.635308</td>\n",
       "      <td>2.867436</td>\n",
       "      <td>2.908044</td>\n",
       "      <td>6.620494</td>\n",
       "    </tr>\n",
       "    <tr>\n",
       "      <th>7557</th>\n",
       "      <td>1.826784</td>\n",
       "      <td>6.423516</td>\n",
       "      <td>3.938225</td>\n",
       "      <td>3.979050</td>\n",
       "      <td>24.111481</td>\n",
       "      <td>6.987473</td>\n",
       "      <td>5.311915</td>\n",
       "      <td>16.097475</td>\n",
       "      <td>6.406295</td>\n",
       "      <td>4.448865</td>\n",
       "      <td>...</td>\n",
       "      <td>6.891463</td>\n",
       "      <td>4.985436</td>\n",
       "      <td>9.032064</td>\n",
       "      <td>5.082086</td>\n",
       "      <td>16.248680</td>\n",
       "      <td>14.834429</td>\n",
       "      <td>2.647851</td>\n",
       "      <td>2.840842</td>\n",
       "      <td>2.874202</td>\n",
       "      <td>6.574840</td>\n",
       "    </tr>\n",
       "    <tr>\n",
       "      <th>7558</th>\n",
       "      <td>1.820524</td>\n",
       "      <td>6.421737</td>\n",
       "      <td>3.995607</td>\n",
       "      <td>3.983496</td>\n",
       "      <td>24.212563</td>\n",
       "      <td>6.976572</td>\n",
       "      <td>5.319486</td>\n",
       "      <td>16.142710</td>\n",
       "      <td>6.419903</td>\n",
       "      <td>4.466480</td>\n",
       "      <td>...</td>\n",
       "      <td>6.947054</td>\n",
       "      <td>4.940783</td>\n",
       "      <td>8.906477</td>\n",
       "      <td>5.055438</td>\n",
       "      <td>15.986133</td>\n",
       "      <td>14.814466</td>\n",
       "      <td>2.660552</td>\n",
       "      <td>2.855416</td>\n",
       "      <td>2.907032</td>\n",
       "      <td>6.561059</td>\n",
       "    </tr>\n",
       "    <tr>\n",
       "      <th>7559</th>\n",
       "      <td>1.807655</td>\n",
       "      <td>6.396293</td>\n",
       "      <td>3.957244</td>\n",
       "      <td>4.017404</td>\n",
       "      <td>24.270751</td>\n",
       "      <td>7.017645</td>\n",
       "      <td>5.306117</td>\n",
       "      <td>16.178789</td>\n",
       "      <td>6.359884</td>\n",
       "      <td>4.417764</td>\n",
       "      <td>...</td>\n",
       "      <td>7.050607</td>\n",
       "      <td>4.922436</td>\n",
       "      <td>8.908939</td>\n",
       "      <td>5.126056</td>\n",
       "      <td>15.865409</td>\n",
       "      <td>14.760401</td>\n",
       "      <td>2.627910</td>\n",
       "      <td>2.837601</td>\n",
       "      <td>2.901036</td>\n",
       "      <td>6.510775</td>\n",
       "    </tr>\n",
       "    <tr>\n",
       "      <th>7560</th>\n",
       "      <td>1.815003</td>\n",
       "      <td>6.388221</td>\n",
       "      <td>3.973684</td>\n",
       "      <td>4.023916</td>\n",
       "      <td>24.416567</td>\n",
       "      <td>7.026543</td>\n",
       "      <td>5.296268</td>\n",
       "      <td>16.153103</td>\n",
       "      <td>6.455172</td>\n",
       "      <td>4.472833</td>\n",
       "      <td>...</td>\n",
       "      <td>7.009750</td>\n",
       "      <td>4.898555</td>\n",
       "      <td>8.825607</td>\n",
       "      <td>5.149681</td>\n",
       "      <td>16.005693</td>\n",
       "      <td>14.547124</td>\n",
       "      <td>2.640545</td>\n",
       "      <td>2.807130</td>\n",
       "      <td>2.922598</td>\n",
       "      <td>6.593237</td>\n",
       "    </tr>\n",
       "  </tbody>\n",
       "</table>\n",
       "<p>7561 rows × 500 columns</p>\n",
       "</div>"
      ],
      "text/plain": [
       "           0         1         2         3          4         5         6    \\\n",
       "0     1.000000  1.000000  1.000000  1.000000   1.000000  1.000000  1.000000   \n",
       "1     0.996862  1.001464  0.998245  0.997728   0.998459  0.983073  1.003548   \n",
       "2     1.000796  0.999041  0.994600  1.003455   1.003876  0.991818  1.003961   \n",
       "3     1.007031  1.004903  0.991333  1.000682   1.003254  0.994628  0.993709   \n",
       "4     1.003660  1.007167  0.991882  1.002832   1.005737  0.989059  0.982342   \n",
       "...        ...       ...       ...       ...        ...       ...       ...   \n",
       "7556  1.847298  6.420759  3.887808  3.988387  24.066807  7.020944  5.284197   \n",
       "7557  1.826784  6.423516  3.938225  3.979050  24.111481  6.987473  5.311915   \n",
       "7558  1.820524  6.421737  3.995607  3.983496  24.212563  6.976572  5.319486   \n",
       "7559  1.807655  6.396293  3.957244  4.017404  24.270751  7.017645  5.306117   \n",
       "7560  1.815003  6.388221  3.973684  4.023916  24.416567  7.026543  5.296268   \n",
       "\n",
       "            7         8         9    ...       490       491       492  \\\n",
       "0      1.000000  1.000000  1.000000  ...  1.000000  1.000000  1.000000   \n",
       "1      1.000284  1.006704  0.997614  ...  1.006011  0.999551  0.983158   \n",
       "2      0.999712  1.012002  1.000400  ...  0.993489  0.994553  0.979090   \n",
       "3      0.998359  1.003863  0.997917  ...  0.981391  1.007121  0.969678   \n",
       "4      0.991245  1.001560  0.993944  ...  0.974909  1.006774  0.973345   \n",
       "...         ...       ...       ...  ...       ...       ...       ...   \n",
       "7556  15.969820  6.440724  4.432132  ...  6.875713  4.947405  8.951967   \n",
       "7557  16.097475  6.406295  4.448865  ...  6.891463  4.985436  9.032064   \n",
       "7558  16.142710  6.419903  4.466480  ...  6.947054  4.940783  8.906477   \n",
       "7559  16.178789  6.359884  4.417764  ...  7.050607  4.922436  8.908939   \n",
       "7560  16.153103  6.455172  4.472833  ...  7.009750  4.898555  8.825607   \n",
       "\n",
       "           493        494        495       496       497       498       499  \n",
       "0     1.000000   1.000000   1.000000  1.000000  1.000000  1.000000  1.000000  \n",
       "1     1.010934   1.000779   0.996937  1.004569  0.993737  0.997193  0.994954  \n",
       "2     0.999169   0.997089   1.001744  1.003520  0.983774  0.987464  1.010977  \n",
       "3     0.992442   1.002592   1.001473  1.006893  0.976541  0.996663  1.018405  \n",
       "4     0.991086   0.999736   0.993197  0.996499  0.971402  0.995201  1.015867  \n",
       "...        ...        ...        ...       ...       ...       ...       ...  \n",
       "7556  5.012986  16.312299  15.048897  2.635308  2.867436  2.908044  6.620494  \n",
       "7557  5.082086  16.248680  14.834429  2.647851  2.840842  2.874202  6.574840  \n",
       "7558  5.055438  15.986133  14.814466  2.660552  2.855416  2.907032  6.561059  \n",
       "7559  5.126056  15.865409  14.760401  2.627910  2.837601  2.901036  6.510775  \n",
       "7560  5.149681  16.005693  14.547124  2.640545  2.807130  2.922598  6.593237  \n",
       "\n",
       "[7561 rows x 500 columns]"
      ]
     },
     "execution_count": 72,
     "metadata": {},
     "output_type": "execute_result"
    }
   ],
   "source": [
    "%%time\n",
    "# Run the Monte Carlo simulation to forecast 30 years cumulative returns\n",
    "thirty_year_simulation.calc_cumulative_return()\n"
   ]
  },
  {
   "cell_type": "code",
   "execution_count": 73,
   "metadata": {},
   "outputs": [
    {
     "data": {
      "text/plain": [
       "<AxesSubplot:title={'center':'500 Simulations of Cumulative Portfolio Return Trajectories Over the Next 7560 Trading Days.'}>"
      ]
     },
     "execution_count": 73,
     "metadata": {},
     "output_type": "execute_result"
    },
    {
     "data": {
      "image/png": "[encoded data removed]",
      "text/plain": [
       "<Figure size 640x480 with 1 Axes>"
      ]
     },
     "metadata": {},
     "output_type": "display_data"
    }
   ],
   "source": [
    "# Visualize the 30-year Monte Carlo simulation by creating an\n",
    "# overlay line plot\n",
    "thirty_year_simulation.plot_simulation()"
   ]
  },
  {
   "cell_type": "markdown",
   "metadata": {},
   "source": [
    "#### Step 3: Plot the probability distribution of the Monte Carlo simulation."
   ]
  },
  {
   "cell_type": "code",
   "execution_count": 74,
   "metadata": {},
   "outputs": [
    {
     "data": {
      "text/plain": [
       "<AxesSubplot:title={'center':'Distribution of Final Cumuluative Returns Across All 500 Simulations'}, ylabel='Frequency'>"
      ]
     },
     "execution_count": 74,
     "metadata": {},
     "output_type": "execute_result"
    },
    {
     "data": {
      "image/png": "[encoded data removed]",
      "text/plain": [
       "<Figure size 640x480 with 1 Axes>"
      ]
     },
     "metadata": {},
     "output_type": "display_data"
    }
   ],
   "source": [
    "# Visualize the probability distribution of the 30-year Monte Carlo simulation \n",
    "# by plotting a histogram\n",
    "thirty_year_simulation.plot_distribution()\n"
   ]
  },
  {
   "cell_type": "markdown",
   "metadata": {},
   "source": [
    "#### Step 4: Generate the summary statistics for the Monte Carlo simulation."
   ]
  },
  {
   "cell_type": "code",
   "execution_count": 75,
   "metadata": {},
   "outputs": [
    {
     "data": {
      "text/plain": [
       "count           500.000000\n",
       "mean              7.213703\n",
       "std               4.909378\n",
       "min               0.821254\n",
       "25%               3.976301\n",
       "50%               6.013759\n",
       "75%               8.951430\n",
       "max              35.001710\n",
       "95% CI Lower      1.798585\n",
       "95% CI Upper     22.037429\n",
       "Name: 7560, dtype: float64"
      ]
     },
     "metadata": {},
     "output_type": "display_data"
    }
   ],
   "source": [
    "# Generate summary statistics from the 30-year Monte Carlo simulation results\n",
    "# Save the results as a variable\n",
    "summary_simulation_cummulative_return = thirty_year_simulation.summarize_cumulative_return()\n",
    "\n",
    "# Review the 30-year Monte Carlo summary statistics\n",
    "display(summary_simulation_cummulative_return)"
   ]
  },
  {
   "cell_type": "markdown",
   "metadata": {},
   "source": [
    "### Analyze the Retirement Portfolio Forecasts\n",
    "\n",
    "Using the current value of only the stock and bond portion of the member's portfolio and the summary statistics that you generated from the Monte Carlo simulation, answer the following question in your Jupyter notebook:\n",
    "\n",
    "-  What are the lower and upper bounds for the expected value of the portfolio with a 95% confidence interval?\n"
   ]
  },
  {
   "cell_type": "code",
   "execution_count": 77,
   "metadata": {},
   "outputs": [
    {
     "name": "stdout",
     "output_type": "stream",
     "text": [
      "The total fund of Stocks and Bonds is $65371.10\n"
     ]
    }
   ],
   "source": [
    "# Print the current balance of the stock and bond portion of the members portfolio\n",
    "print(f\"The total fund of Stocks and Bonds is ${total_stocks_bonds:.2f}\")\n"
   ]
  },
  {
   "cell_type": "code",
   "execution_count": 78,
   "metadata": {},
   "outputs": [
    {
     "data": {
      "text/plain": [
       "1.7985847494321912"
      ]
     },
     "execution_count": 78,
     "metadata": {},
     "output_type": "execute_result"
    }
   ],
   "source": []
  },
  {
   "cell_type": "code",
   "execution_count": 79,
   "metadata": {},
   "outputs": [
    {
     "name": "stdout",
     "output_type": "stream",
     "text": [
      "The Upper limit with 95% confidence is $1440611.00\n",
      "The Lower limit with 95% confidence is $117575.46\n"
     ]
    }
   ],
   "source": [
    "# Use the lower and upper `95%` confidence intervals to calculate the range of the possible outcomes for the current stock/bond portfolio\n",
    "ci_lower_thirty_cumulative_return = total_stocks_bonds * summary_simulation_cummulative_return[8]\n",
    "ci_upper_thirty_cumulative_return = total_stocks_bonds * summary_simulation_cummulative_return[9]\n",
    "\n",
    "# Print the result of your calculations\n",
    "print(f\"The Upper limit with 95% confidence is ${format(ci_upper_thirty_cumulative_return:.2f}\\nThe Lower limit with 95% confidence is ${ci_lower_thirty_cumulative_return:.2f}\")\n"
   ]
  },
  {
   "cell_type": "markdown",
   "metadata": {},
   "source": [
    "### Forecast Cumulative Returns in 10 Years\n",
    "\n",
    "The CTO of the credit union is impressed with your work on these planning tools but wonders if 30 years is a long time to wait until retirement. So, your next task is to adjust the retirement portfolio and run a new Monte Carlo simulation to find out if the changes will allow members to retire earlier.\n",
    "\n",
    "For this new Monte Carlo simulation, do the following: \n",
    "\n",
    "- Forecast the cumulative returns for 10 years from now. Because of the shortened investment horizon (30 years to 10 years), the portfolio needs to invest more heavily in the riskier asset&mdash;that is, stock&mdash;to help accumulate wealth for retirement. \n",
    "\n",
    "- Adjust the weights of the retirement portfolio so that the composition for the Monte Carlo simulation consists of 20% bonds and 80% stocks. \n",
    "\n",
    "- Run the simulation over 500 samples, and use the same data that the API call to Alpaca generated.\n",
    "\n",
    "- Based on the new Monte Carlo simulation, answer the following questions in your Jupyter notebook:\n",
    "\n",
    "    - Using the current value of only the stock and bond portion of the member's portfolio and the summary statistics that you generated from the new Monte Carlo simulation, what are the lower and upper bounds for the expected value of the portfolio (with the new weights) with a 95% confidence interval?\n",
    "\n",
    "    - Will weighting the portfolio more heavily toward stocks allow the credit union members to retire after only 10 years?\n"
   ]
  },
  {
   "cell_type": "code",
   "execution_count": null,
   "metadata": {},
   "outputs": [],
   "source": [
    "# Configure a Monte Carlo simulation to forecast 10 years cumulative returns\n",
    "# The weights should be split 20% to AGG and 80% to SPY.\n",
    "# Run 500 samples.\n",
    "# YOUR CODE HERE\n",
    "\n",
    "# Review the simulation input data\n",
    "# YOUR CODE HERE\n"
   ]
  },
  {
   "cell_type": "code",
   "execution_count": null,
   "metadata": {},
   "outputs": [],
   "source": [
    "# Run the Monte Carlo simulation to forecast 10 years cumulative returns\n",
    "# YOUR CODE HERE\n"
   ]
  },
  {
   "cell_type": "code",
   "execution_count": null,
   "metadata": {},
   "outputs": [],
   "source": [
    "# Visualize the 10-year Monte Carlo simulation by creating an\n",
    "# overlay line plot\n",
    "# YOUR CODE HERE\n"
   ]
  },
  {
   "cell_type": "code",
   "execution_count": null,
   "metadata": {},
   "outputs": [],
   "source": [
    "# Visualize the probability distribution of the 10-year Monte Carlo simulation \n",
    "# by plotting a histogram\n",
    "# YOUR CODE HERE\n"
   ]
  },
  {
   "cell_type": "code",
   "execution_count": null,
   "metadata": {},
   "outputs": [],
   "source": [
    "# Generate summary statistics from the 10-year Monte Carlo simulation results\n",
    "# Save the results as a variable\n",
    "# YOUR CODE HERE\n",
    "\n",
    "\n",
    "# Review the 10-year Monte Carlo summary statistics\n",
    "# YOUR CODE HERE"
   ]
  },
  {
   "cell_type": "markdown",
   "metadata": {},
   "source": [
    "### Answer the following questions:"
   ]
  },
  {
   "cell_type": "markdown",
   "metadata": {},
   "source": [
    "#### Question: Using the current value of only the stock and bond portion of the member's portfolio and the summary statistics that you generated from the new Monte Carlo simulation, what are the lower and upper bounds for the expected value of the portfolio (with the new weights) with a 95% confidence interval?"
   ]
  },
  {
   "cell_type": "code",
   "execution_count": null,
   "metadata": {},
   "outputs": [],
   "source": [
    "# Print the current balance of the stock and bond portion of the members portfolio\n",
    "# YOUR CODE HERE\n"
   ]
  },
  {
   "cell_type": "code",
   "execution_count": null,
   "metadata": {},
   "outputs": [],
   "source": [
    "# Use the lower and upper `95%` confidence intervals to calculate the range of the possible outcomes for the current stock/bond portfolio\n",
    "ci_lower_ten_cumulative_return = # YOUR CODE HERE\n",
    "ci_upper_ten_cumulative_return = # YOUR CODE HERE\n",
    "\n",
    "# Print the result of your calculations\n",
    "# YOUR CODE HERE\n"
   ]
  },
  {
   "cell_type": "markdown",
   "metadata": {},
   "source": [
    "#### Question: Will weighting the portfolio more heavily to stocks allow the credit union members to retire after only 10 years?"
   ]
  },
  {
   "cell_type": "raw",
   "metadata": {},
   "source": [
    "**Answer** # YOUR ANSWER HERE"
   ]
  },
  {
   "cell_type": "code",
   "execution_count": null,
   "metadata": {},
   "outputs": [],
   "source": []
  }
 ],
 "metadata": {
  "kernelspec": {
   "display_name": "dev",
   "language": "python",
   "name": "dev"
  },
  "language_info": {
   "codemirror_mode": {
    "name": "ipython",
    "version": 3
   },
   "file_extension": ".py",
   "mimetype": "text/x-python",
   "name": "python",
   "nbconvert_exporter": "python",
   "pygments_lexer": "ipython3",
   "version": "3.7.13"
  }
 },
 "nbformat": 4,
 "nbformat_minor": 4
}
